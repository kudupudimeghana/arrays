{
  "nbformat": 4,
  "nbformat_minor": 0,
  "metadata": {
    "colab": {
      "provenance": [],
      "authorship_tag": "ABX9TyNVh4l7GwdRF8nSa8AB/h/6",
      "include_colab_link": true
    },
    "kernelspec": {
      "name": "python3",
      "display_name": "Python 3"
    },
    "language_info": {
      "name": "python"
    }
  },
  "cells": [
    {
      "cell_type": "markdown",
      "metadata": {
        "id": "view-in-github",
        "colab_type": "text"
      },
      "source": [
        "<a href=\"https://colab.research.google.com/github/kudupudimeghana/arrays/blob/main/arrays.ipynb\" target=\"_parent\"><img src=\"https://colab.research.google.com/assets/colab-badge.svg\" alt=\"Open In Colab\"/></a>"
      ]
    },
    {
      "cell_type": "code",
      "execution_count": null,
      "metadata": {
        "colab": {
          "base_uri": "https://localhost:8080/"
        },
        "id": "Mh7mVpMnWh1R",
        "outputId": "0c03fc4f-b2f7-42a8-c8ec-2500fe3a178b"
      },
      "outputs": [
        {
          "output_type": "stream",
          "name": "stdout",
          "text": [
            "Array elements: [10, 20, 30, 40, 50]\n"
          ]
        }
      ],
      "source": [
        "#Create and Display an Array\n",
        "arr = [10, 20, 30, 40, 50]\n",
        "print(\"Array elements:\", arr)"
      ]
    },
    {
      "cell_type": "code",
      "source": [
        "def findMax(nums):\n",
        "    return max(nums)\n",
        "\n",
        "print(findMax([3, 1, 7, 2, 5]))\n"
      ],
      "metadata": {
        "colab": {
          "base_uri": "https://localhost:8080/"
        },
        "id": "ABCF2SvU-Uiv",
        "outputId": "4937050c-95a6-4c8f-a268-0ad4a53bffe2"
      },
      "execution_count": null,
      "outputs": [
        {
          "output_type": "stream",
          "name": "stdout",
          "text": [
            "7\n"
          ]
        }
      ]
    },
    {
      "cell_type": "code",
      "source": [
        "#second largest element one iteration approach\n",
        "def Secondlargest(self,arr):\n",
        "  n=len(arr)\n",
        "  if n<2:\n",
        "    return -1\n",
        "  first=second=('-inf')\n",
        "  for num in arr:\n",
        "    if num>first:\n",
        "      second=first\n",
        "      first=num\n",
        "    elif num>second and num!=first:\n",
        "      second=num\n",
        "    if second==float('-inf'):\n",
        "      return -1\n",
        "    else:\n",
        "      return second"
      ],
      "metadata": {
        "id": "4Dyap-OAiZnH"
      },
      "execution_count": 10,
      "outputs": []
    },
    {
      "cell_type": "code",
      "source": [
        "def second_largest(arr):\n",
        "    n = len(arr)\n",
        "    if n < 2:\n",
        "        return -1\n",
        "\n",
        "    first = second = float('-inf')\n",
        "\n",
        "    for num in arr:\n",
        "        if num > first:\n",
        "            second = first\n",
        "            first = num\n",
        "        elif num > second and num != first:\n",
        "            second = num\n",
        "\n",
        "    return second if second != float('-inf') else -1\n",
        "\n",
        "\n",
        "# User input\n",
        "arr = list(map(int, input(\"Enter numbers separated by space: \").split()))\n",
        "res = second_largest(arr)\n",
        "print(\"Second largest element:\", res)\n"
      ],
      "metadata": {
        "colab": {
          "base_uri": "https://localhost:8080/"
        },
        "id": "9M2QXrimmNJO",
        "outputId": "630ee3ee-1c46-4975-c2ee-89a8858ffd8c"
      },
      "execution_count": 13,
      "outputs": [
        {
          "output_type": "stream",
          "name": "stdout",
          "text": [
            "Enter numbers separated by space: 2 6 7 87 90 87\n",
            "Second largest element: 87\n"
          ]
        }
      ]
    },
    {
      "cell_type": "code",
      "source": [
        "#Find the Length of the Array\n",
        "arr = [10, 20, 30, 40, 50]\n",
        "print(\"Length of array:\", len(arr))\n"
      ],
      "metadata": {
        "colab": {
          "base_uri": "https://localhost:8080/"
        },
        "id": "X8wY3T-uXdym",
        "outputId": "3eaa0b80-e593-47f9-cbfe-07c238fa91b4"
      },
      "execution_count": 8,
      "outputs": [
        {
          "output_type": "stream",
          "name": "stdout",
          "text": [
            "Length of array: 5\n"
          ]
        }
      ]
    },
    {
      "cell_type": "code",
      "source": [
        "#Print Array Elements One by One (Using Loop)\n",
        "arr = [10, 20, 30, 40, 50]\n",
        "for element in arr:\n",
        "    print(element)"
      ],
      "metadata": {
        "colab": {
          "base_uri": "https://localhost:8080/"
        },
        "id": "kAtlNC1hXkZz",
        "outputId": "4a1d30c4-3aa7-4506-90d8-e197c7b702e8"
      },
      "execution_count": null,
      "outputs": [
        {
          "output_type": "stream",
          "name": "stdout",
          "text": [
            "10\n",
            "20\n",
            "30\n",
            "40\n",
            "50\n"
          ]
        }
      ]
    },
    {
      "cell_type": "code",
      "source": [
        "#Find the Sum of Array Elements\n",
        "arr = [10, 20, 30, 40, 50]\n",
        "print(\"Sum of array elements:\", sum(arr))\n"
      ],
      "metadata": {
        "colab": {
          "base_uri": "https://localhost:8080/"
        },
        "id": "QUzuuB2zYVgP",
        "outputId": "2354f534-a667-4394-f1ff-412b72dc7025"
      },
      "execution_count": null,
      "outputs": [
        {
          "output_type": "stream",
          "name": "stdout",
          "text": [
            "Sum of array elements: 150\n"
          ]
        }
      ]
    },
    {
      "cell_type": "code",
      "source": [
        "# Find the Maximum and Minimum Elements\n",
        "arr = [10, 20, 30, 40, 50]\n",
        "print(\"Maximum element:\", max(arr))\n",
        "print(\"Minimum element:\", min(arr))\n"
      ],
      "metadata": {
        "colab": {
          "base_uri": "https://localhost:8080/"
        },
        "id": "JoTcLf6QYekc",
        "outputId": "4ef7ca6f-9ab5-48bf-abdb-770b37506778"
      },
      "execution_count": null,
      "outputs": [
        {
          "output_type": "stream",
          "name": "stdout",
          "text": [
            "Maximum element: 50\n",
            "Minimum element: 10\n"
          ]
        }
      ]
    },
    {
      "cell_type": "code",
      "source": [
        " #Reverse the Array\n",
        "arr = [10, 20, 30, 40, 50]\n",
        "arr.reverse()\n",
        "print(\"Reversed array:\", arr)\n"
      ],
      "metadata": {
        "colab": {
          "base_uri": "https://localhost:8080/"
        },
        "id": "ODdkir0EYm3b",
        "outputId": "5646cbdd-1e74-4f80-f297-dd50088cbbbc"
      },
      "execution_count": null,
      "outputs": [
        {
          "output_type": "stream",
          "name": "stdout",
          "text": [
            "Reversed array: [50, 40, 30, 20, 10]\n"
          ]
        }
      ]
    },
    {
      "cell_type": "code",
      "source": [
        "#Find the Second Largest Element\n",
        "arr = [10, 40, 20, 50, 30]\n",
        "unique_arr = list(set(arr))\n",
        "unique_arr.sort()\n",
        "print(\"Second largest element:\", unique_arr[-2])\n"
      ],
      "metadata": {
        "colab": {
          "base_uri": "https://localhost:8080/"
        },
        "id": "9KISgCpLa3d4",
        "outputId": "fba0ef34-c3bd-4b7e-dafb-d25baf566e05"
      },
      "execution_count": null,
      "outputs": [
        {
          "output_type": "stream",
          "name": "stdout",
          "text": [
            "Second largest element: 40\n"
          ]
        }
      ]
    },
    {
      "cell_type": "code",
      "source": [
        "# Insert an Element at Specific Position\n",
        "arr = [10, 20, 30, 40, 50]\n",
        "arr.insert(2, 25)  # Insert 25 at index 2\n",
        "print(\"Updated array:\", arr)\n"
      ],
      "metadata": {
        "colab": {
          "base_uri": "https://localhost:8080/"
        },
        "id": "TzXQDKtPY_mc",
        "outputId": "31a028ee-015c-4c11-fd79-e32f40f26cde"
      },
      "execution_count": null,
      "outputs": [
        {
          "output_type": "stream",
          "name": "stdout",
          "text": [
            "Updated array: [10, 20, 25, 30, 40, 50]\n"
          ]
        }
      ]
    },
    {
      "cell_type": "code",
      "source": [
        "#Search for an Element\n",
        "arr = [10, 20, 30, 40, 50]\n",
        "element = 30\n",
        "if element in arr:\n",
        "    print(f\"{element} is present in the array.\")\n",
        "else:\n",
        "    print(f\"{element} is not present in the array.\")\n"
      ],
      "metadata": {
        "colab": {
          "base_uri": "https://localhost:8080/"
        },
        "id": "dxXHsQJPYxNr",
        "outputId": "045926b2-a8b9-4655-a7c5-031a1178c255"
      },
      "execution_count": null,
      "outputs": [
        {
          "output_type": "stream",
          "name": "stdout",
          "text": [
            "30 is present in the array.\n"
          ]
        }
      ]
    },
    {
      "cell_type": "code",
      "source": [
        "#Delete an Element\n",
        "arr = [10, 20, 30, 40, 50]\n",
        "arr.remove(30)  # Remove element 30\n",
        "print(\"Updated array:\", arr)\n"
      ],
      "metadata": {
        "colab": {
          "base_uri": "https://localhost:8080/"
        },
        "id": "nw2nEZh9bP4a",
        "outputId": "a8fa7052-2c78-441f-e9fb-8423cdb2a669"
      },
      "execution_count": 9,
      "outputs": [
        {
          "output_type": "stream",
          "name": "stdout",
          "text": [
            "Updated array: [10, 20, 40, 50]\n"
          ]
        }
      ]
    }
  ]
}